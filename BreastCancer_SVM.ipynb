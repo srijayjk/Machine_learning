{
  "nbformat": 4,
  "nbformat_minor": 0,
  "metadata": {
    "colab": {
      "name": "BreastCancer_SVM.ipynb",
      "provenance": [],
      "authorship_tag": "ABX9TyMeQuwmfD1mUNN+wR6In9kE",
      "include_colab_link": true
    },
    "kernelspec": {
      "name": "python3",
      "display_name": "Python 3"
    }
  },
  "cells": [
    {
      "cell_type": "markdown",
      "metadata": {
        "id": "view-in-github",
        "colab_type": "text"
      },
      "source": [
        "<a href=\"https://colab.research.google.com/github/srijayjk/Machine_learning/blob/main/BreastCancer_SVM.ipynb\" target=\"_parent\"><img src=\"https://colab.research.google.com/assets/colab-badge.svg\" alt=\"Open In Colab\"/></a>"
      ]
    },
    {
      "cell_type": "code",
      "metadata": {
        "id": "AElhaBEPvNNF"
      },
      "source": [
        "import pandas as pd\n",
        "import numpy as np\n",
        "import matplotlib.pyplot as plt\n"
      ],
      "execution_count": 44,
      "outputs": []
    },
    {
      "cell_type": "code",
      "metadata": {
        "colab": {
          "base_uri": "https://localhost:8080/"
        },
        "id": "sw5WYdkgybJB",
        "outputId": "3b6c9323-bb0b-475a-ddce-4e1c9bb119e3"
      },
      "source": [
        "cell_df = pd.read_csv('cell_samples.csv')\n",
        "print(cell_df.count())\n",
        "cell_df['Class'].value_counts()"
      ],
      "execution_count": 45,
      "outputs": [
        {
          "output_type": "stream",
          "text": [
            "ID             699\n",
            "Clump          699\n",
            "UnifSize       699\n",
            "UnifShape      699\n",
            "MargAdh        699\n",
            "SingEpiSize    699\n",
            "BareNuc        699\n",
            "BlandChrom     699\n",
            "NormNucl       699\n",
            "Mit            699\n",
            "Class          699\n",
            "dtype: int64\n"
          ],
          "name": "stdout"
        },
        {
          "output_type": "execute_result",
          "data": {
            "text/plain": [
              "2    458\n",
              "4    241\n",
              "Name: Class, dtype: int64"
            ]
          },
          "metadata": {
            "tags": []
          },
          "execution_count": 45
        }
      ]
    },
    {
      "cell_type": "code",
      "metadata": {
        "colab": {
          "base_uri": "https://localhost:8080/",
          "height": 559
        },
        "id": "xxTTlAtx2FhF",
        "outputId": "be926cac-f824-4f1a-af38-abb5b6f7339d"
      },
      "source": [
        "benign_df = cell_df[cell_df['Class']==2][0:200]\n",
        "malignant_df = cell_df[cell_df['Class']==4][0:200]\n",
        "\n",
        "axes = benign_df.plot(kind = 'scatter', x='Clump', y='UnifSize', color='blue', label='Benign')\n",
        "malignant_df.plot(kind = 'scatter', x='Clump', y='UnifSize', color='blue', label='malignant')"
      ],
      "execution_count": 46,
      "outputs": [
        {
          "output_type": "execute_result",
          "data": {
            "text/plain": [
              "<matplotlib.axes._subplots.AxesSubplot at 0x7ff0943721d0>"
            ]
          },
          "metadata": {
            "tags": []
          },
          "execution_count": 46
        },
        {
          "output_type": "display_data",
          "data": {
            "image/png": "[encoded data removed]",
            "text/plain": [
              "<Figure size 432x288 with 1 Axes>"
            ]
          },
          "metadata": {
            "tags": [],
            "needs_background": "light"
          }
        },
        {
          "output_type": "display_data",
          "data": {
            "image/png": "[encoded data removed]",
            "text/plain": [
              "<Figure size 432x288 with 1 Axes>"
            ]
          },
          "metadata": {
            "tags": [],
            "needs_background": "light"
          }
        }
      ]
    },
    {
      "cell_type": "code",
      "metadata": {
        "colab": {
          "base_uri": "https://localhost:8080/"
        },
        "id": "Y1D2LZB63V9v",
        "outputId": "19ca61dd-a3b1-4c28-d3ff-863ad7e50d12"
      },
      "source": [
        "\n",
        "cell_df = cell_df[pd.to_numeric(cell_df['BareNuc'], errors='coerce').notnull()]\n",
        "cell_df['BareNuc'] = cell_df['BareNuc'].astype('int')\n",
        "cell_df.dtypes"
      ],
      "execution_count": 47,
      "outputs": [
        {
          "output_type": "execute_result",
          "data": {
            "text/plain": [
              "ID             int64\n",
              "Clump          int64\n",
              "UnifSize       int64\n",
              "UnifShape      int64\n",
              "MargAdh        int64\n",
              "SingEpiSize    int64\n",
              "BareNuc        int64\n",
              "BlandChrom     int64\n",
              "NormNucl       int64\n",
              "Mit            int64\n",
              "Class          int64\n",
              "dtype: object"
            ]
          },
          "metadata": {
            "tags": []
          },
          "execution_count": 47
        }
      ]
    },
    {
      "cell_type": "code",
      "metadata": {
        "colab": {
          "base_uri": "https://localhost:8080/"
        },
        "id": "GupTX2OW4XWH",
        "outputId": "84f1846a-188f-408d-ceb7-f72ca3db54d8"
      },
      "source": [
        "X = cell_df.iloc[:, 1:-1]\n",
        "y = cell_df['Class']\n",
        "print(X)\n",
        "print(y)"
      ],
      "execution_count": 49,
      "outputs": [
        {
          "output_type": "stream",
          "text": [
            "     Clump  UnifSize  UnifShape  MargAdh  ...  BareNuc  BlandChrom  NormNucl  Mit\n",
            "0        5         1          1        1  ...        1           3         1    1\n",
            "1        5         4          4        5  ...       10           3         2    1\n",
            "2        3         1          1        1  ...        2           3         1    1\n",
            "3        6         8          8        1  ...        4           3         7    1\n",
            "4        4         1          1        3  ...        1           3         1    1\n",
            "..     ...       ...        ...      ...  ...      ...         ...       ...  ...\n",
            "694      3         1          1        1  ...        2           1         1    1\n",
            "695      2         1          1        1  ...        1           1         1    1\n",
            "696      5        10         10        3  ...        3           8        10    2\n",
            "697      4         8          6        4  ...        4          10         6    1\n",
            "698      4         8          8        5  ...        5          10         4    1\n",
            "\n",
            "[683 rows x 9 columns]\n",
            "0      2\n",
            "1      2\n",
            "2      2\n",
            "3      2\n",
            "4      2\n",
            "      ..\n",
            "694    2\n",
            "695    2\n",
            "696    4\n",
            "697    4\n",
            "698    4\n",
            "Name: Class, Length: 683, dtype: int64\n"
          ],
          "name": "stdout"
        }
      ]
    },
    {
      "cell_type": "code",
      "metadata": {
        "colab": {
          "base_uri": "https://localhost:8080/"
        },
        "id": "dofTx_fW6vdn",
        "outputId": "eb79b142-72df-436d-f358-49d38a90f54f"
      },
      "source": [
        "from sklearn.model_selection import train_test_split\n",
        "X_train, X_test, y_train, y_test =train_test_split(X, y, test_size=0.2, random_state=4)\n",
        "X_train.shape\n",
        "X_test.shape"
      ],
      "execution_count": 53,
      "outputs": [
        {
          "output_type": "execute_result",
          "data": {
            "text/plain": [
              "(137, 9)"
            ]
          },
          "metadata": {
            "tags": []
          },
          "execution_count": 53
        }
      ]
    },
    {
      "cell_type": "markdown",
      "metadata": {
        "id": "vsLEIqOEBkY-"
      },
      "source": [
        "# From Scratch **SVM** "
      ]
    },
    {
      "cell_type": "code",
      "metadata": {
        "id": "U92tfXNj7qyO"
      },
      "source": [
        "class SVM:\n",
        "\n",
        "  def __init__(self, learning_rate=0.001, lambda_param=0.01, n_iters=1000):\n",
        "    self.lr = learning_rate\n",
        "    self.lambda_param = lambda_param\n",
        "    self.n_iters = n_iters\n",
        "    self.w = None\n",
        "    self.b =None\n",
        "\n",
        "  def fit(self, X, y):\n",
        "    y_ = np.where(y <= 0, -1, 1)\n",
        "    n_samples, n_features = X.shape\n",
        "\n",
        "    self.w = np.zeros(n_features)\n",
        "    self.b = 0\n",
        "\n",
        "    for _ in range(self.n_iters):\n",
        "      for idx, x_i in enumerate(X):\n",
        "        condition = y_[idx] * (np.dot(x_i, self.w) - self.b) >= 1\n",
        "        if condition:\n",
        "          self.w -= self.lr * (2 * self.lambda_param * self.w)\n",
        "        else:\n",
        "          \n",
        "          self.w -= self.lr * (2 * self.lambda_param * self.w - np.dot(x_i, y_[idx]))\n",
        "          self.b -= self.lr * y_[idx]\n",
        "\n",
        "  def predict(self, X):\n",
        "    linear_output = np.dot(X, self.w) - self.b\n",
        "    return np.sign(linear_output)"
      ],
      "execution_count": 59,
      "outputs": []
    },
    {
      "cell_type": "code",
      "metadata": {
        "id": "0wyoLCLv-yNO"
      },
      "source": [
        "SVM_class = SVM()\n",
        "SVM_class.fit(X_train, y_train)"
      ],
      "execution_count": null,
      "outputs": []
    },
    {
      "cell_type": "markdown",
      "metadata": {
        "id": "VIPiHQvcBvqj"
      },
      "source": [
        "# Using Sklearn"
      ]
    },
    {
      "cell_type": "code",
      "metadata": {
        "id": "bZu-yZPU_TI1"
      },
      "source": [
        "from sklearn import svm\n",
        "\n",
        "Classifier = svm.SVC(kernel='linear', gamma='auto', C=2)\n",
        "Classifier.fit(X_train, y_train)\n",
        "y_predict = Classifier.predict(X_test)"
      ],
      "execution_count": 57,
      "outputs": []
    },
    {
      "cell_type": "code",
      "metadata": {
        "colab": {
          "base_uri": "https://localhost:8080/"
        },
        "id": "4hosYkW5AIOP",
        "outputId": "5782e863-2b7f-4888-8d8c-aa38b673d836"
      },
      "source": [
        "from sklearn.metrics import classification_report\n",
        "\n",
        "print(classification_report(y_test, y_predict))"
      ],
      "execution_count": 58,
      "outputs": [
        {
          "output_type": "stream",
          "text": [
            "              precision    recall  f1-score   support\n",
            "\n",
            "           2       1.00      0.94      0.97        90\n",
            "           4       0.90      1.00      0.95        47\n",
            "\n",
            "    accuracy                           0.96       137\n",
            "   macro avg       0.95      0.97      0.96       137\n",
            "weighted avg       0.97      0.96      0.96       137\n",
            "\n"
          ],
          "name": "stdout"
        }
      ]
    }
  ]
}